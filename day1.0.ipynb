{
  "nbformat": 4,
  "nbformat_minor": 0,
  "metadata": {
    "colab": {
      "name": "Untitled4.ipynb",
      "provenance": [],
      "authorship_tag": "ABX9TyPo5+qiZHxu7Rr3bJd+IzTc",
      "include_colab_link": true
    },
    "kernelspec": {
      "name": "python3",
      "display_name": "Python 3"
    },
    "language_info": {
      "name": "python"
    }
  },
  "cells": [
    {
      "cell_type": "markdown",
      "metadata": {
        "id": "view-in-github",
        "colab_type": "text"
      },
      "source": [
        "<a href=\"https://colab.research.google.com/github/som-cs/Collapsar/blob/master/day1.0.ipynb\" target=\"_parent\"><img src=\"https://colab.research.google.com/assets/colab-badge.svg\" alt=\"Open In Colab\"/></a>"
      ]
    },
    {
      "cell_type": "code",
      "metadata": {
        "colab": {
          "base_uri": "https://localhost:8080/"
        },
        "id": "TFR9HQJGBgTN",
        "outputId": "a1c50197-a7f3-49ce-c261-48a47ae2a5a1"
      },
      "source": [
        "print(\"qwertyuiop\") # we can type anything inside double quotes (\"\")"
      ],
      "execution_count": 6,
      "outputs": [
        {
          "output_type": "stream",
          "text": [
            "qwertyuiop\n"
          ],
          "name": "stdout"
        }
      ]
    },
    {
      "cell_type": "code",
      "metadata": {
        "id": "PaQv5wmtCAGf"
      },
      "source": [
        "#sdfghdksjhlkfjgd"
      ],
      "execution_count": 7,
      "outputs": []
    },
    {
      "cell_type": "code",
      "metadata": {
        "colab": {
          "base_uri": "https://localhost:8080/"
        },
        "id": "pvqhq97TEED4",
        "outputId": "dc4ccefc-2869-460f-977a-77240b28b36d"
      },
      "source": [
        "my_name = \"Pallavi\" #Can not start with a number\n",
        "# it can start with any letter or '_'\n",
        "# we can use both capital and small letters\n",
        "# number can be used anywhere except the 1st position\n",
        "print(\"Hello \" + my_name)"
      ],
      "execution_count": 19,
      "outputs": [
        {
          "output_type": "stream",
          "text": [
            "Hello Pallavi\n"
          ],
          "name": "stdout"
        }
      ]
    },
    {
      "cell_type": "code",
      "metadata": {
        "colab": {
          "base_uri": "https://localhost:8080/"
        },
        "id": "dsAUswlOEJv1",
        "outputId": "4234a398-c963-490a-f5d8-49bf830c6aa8"
      },
      "source": [
        "my_name = input(\"What is your name: \")\n",
        "# input(\"Print before input\")\n",
        "print(\"Hello \" + my_name)"
      ],
      "execution_count": 22,
      "outputs": [
        {
          "output_type": "stream",
          "text": [
            "What is your name: so\n",
            "Hello so\n"
          ],
          "name": "stdout"
        }
      ]
    },
    {
      "cell_type": "code",
      "metadata": {
        "colab": {
          "base_uri": "https://localhost:8080/"
        },
        "id": "P4pcjYmLFmyR",
        "outputId": "878598ff-9ac6-4807-fed6-fa7439491e00"
      },
      "source": [
        "a = int(input(\"Enter you age: \"))\n",
        "print(type(a))\n",
        "print(f\"Last year you were {123-12}\")"
      ],
      "execution_count": 32,
      "outputs": [
        {
          "output_type": "stream",
          "text": [
            "Enter you age: 20\n",
            "<class 'int'>\n",
            "Last year you were 111\n"
          ],
          "name": "stdout"
        }
      ]
    },
    {
      "cell_type": "code",
      "metadata": {
        "id": "uLC85mbfGbXc"
      },
      "source": [
        "# String Integer Boolean Float\n",
        "# string: anything inside \"\"\n",
        "# integer: -infinity to +infinity \n",
        "# boolean: True or False\n",
        "# float: any decimal number\n"
      ],
      "execution_count": null,
      "outputs": []
    },
    {
      "cell_type": "code",
      "metadata": {
        "id": "h3BM6LgaIjMd"
      },
      "source": [
        "# Ask user his name, age, year of graduation and ask in which year he started college. \n",
        "# and print his name, age, year he started college in, his age when he was in 1st year\n",
        "# and year of graduation."
      ],
      "execution_count": null,
      "outputs": []
    }
  ]
}